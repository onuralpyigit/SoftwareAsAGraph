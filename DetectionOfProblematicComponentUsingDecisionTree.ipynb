{
 "cells": [
  {
   "cell_type": "code",
   "execution_count": 1,
   "metadata": {},
   "outputs": [
    {
     "name": "stdout",
     "output_type": "stream",
     "text": [
      "                          QualifiedName                         Name   \n",
      "1              <Package>org.jfree.chart              org.jfree.chart  \\\n",
      "2  <Package>org.jfree.chart.annotations  org.jfree.chart.annotations   \n",
      "3          <Package>org.jfree.chart.api          org.jfree.chart.api   \n",
      "4         <Package>org.jfree.chart.axis         org.jfree.chart.axis   \n",
      "5        <Package>org.jfree.chart.block        org.jfree.chart.block   \n",
      "\n",
      "   Complexity  Coupling  Size  Lack of Cohesion  #(C&I)    #C   #I     LOC   \n",
      "1           3         1     3                 1    13.0   9.0  4.0  2441.0  \\\n",
      "2           2         3     3                 1    20.0  16.0  4.0  1929.0   \n",
      "3           1         1     3                 1    14.0  13.0  1.0   418.0   \n",
      "4           4         4     5                 1    46.0  44.0  2.0  7056.0   \n",
      "5           2         3     3                 1    22.0  17.0  5.0  1723.0   \n",
      "\n",
      "      AC    EC    Abs    Ins     ND     WMC  \n",
      "1   64.0   5.0  0.462  0.072  0.466   576.0  \n",
      "2    6.0  20.0  0.300  0.769  0.069   457.0  \n",
      "3  215.0   3.0  0.071  0.014  0.915   105.0  \n",
      "4   91.0  32.0  0.152  0.260  0.588  1828.0  \n",
      "5   19.0  18.0  0.227  0.486  0.287   485.0  \n"
     ]
    }
   ],
   "source": [
    "import pandas as pd\n",
    "\n",
    "def load_data(file_path):\n",
    "    data = pd.read_csv(file_path, sep='\\t')\n",
    "    return data\n",
    "\n",
    "def remove_empty_rows(data):\n",
    "    data = data.dropna(subset=['Name'])\n",
    "    return data\n",
    "\n",
    "def remove_unnamed_columns(data):\n",
    "    data = data.filter(regex='^(?!Unnamed.*)')\n",
    "    return data\n",
    "\n",
    "def remove_nan_columns(data):\n",
    "    data = data.dropna(axis=1, how='all')\n",
    "    return data\n",
    "\n",
    "def convert_ordinal_to_numerical(data):\n",
    "    ordinal_mapping = {\n",
    "        'low': 1,\n",
    "        'low-medium': 2,\n",
    "        'medium-high': 3,\n",
    "        'high': 4,\n",
    "        'very-high': 5\n",
    "    }\n",
    "    columns_to_convert = ['Complexity', 'Coupling', 'Size', 'Lack of Cohesion']\n",
    "    for column in columns_to_convert:\n",
    "        data[column] = data[column].replace(ordinal_mapping)\n",
    "    return data\n",
    "\n",
    "project_name = \"jfreechart\"\n",
    "#project_name = \"argouml\"\n",
    "dataset_file = \"input/\" + project_name + \"/package-metrics-dataset.csv\"\n",
    "dataset = load_data(dataset_file)\n",
    "dataset = remove_empty_rows(dataset)\n",
    "dataset = remove_unnamed_columns(dataset)\n",
    "dataset = remove_nan_columns(dataset)\n",
    "dataset = convert_ordinal_to_numerical(dataset)\n",
    "\n",
    "print(dataset.head())"
   ]
  },
  {
   "cell_type": "code",
   "execution_count": 2,
   "metadata": {},
   "outputs": [
    {
     "name": "stdout",
     "output_type": "stream",
     "text": [
      "Number of instances in the dataset: 42\n",
      "Number of God Components in the dataset: 11\n"
     ]
    }
   ],
   "source": [
    "def label_god_component(row, complexity_threshold=2, size_threshold=2):\n",
    "    if row['Complexity'] > complexity_threshold and row['Size'] > size_threshold:\n",
    "        return 1\n",
    "    else:\n",
    "        return 0\n",
    "\n",
    "# Label the dataset\n",
    "dataset['is_god_component'] = dataset.apply(label_god_component, axis=1)\n",
    "\n",
    "# Count the number of God Components\n",
    "num_dataset_rows = dataset.shape[0]\n",
    "num_god_components = dataset['is_god_component'].sum()\n",
    "print(f'Number of instances in the dataset: {num_dataset_rows}')\n",
    "print(f'Number of God Components in the dataset: {num_god_components}')"
   ]
  },
  {
   "cell_type": "code",
   "execution_count": 3,
   "metadata": {},
   "outputs": [
    {
     "name": "stdout",
     "output_type": "stream",
     "text": [
      "                          Name  #(C&I)    #C   #I     LOC     AC    EC    Abs   \n",
      "1              org.jfree.chart    13.0   9.0  4.0  2441.0   64.0   5.0  0.462  \\\n",
      "2  org.jfree.chart.annotations    20.0  16.0  4.0  1929.0    6.0  20.0  0.300   \n",
      "3          org.jfree.chart.api    14.0  13.0  1.0   418.0  215.0   3.0  0.071   \n",
      "4         org.jfree.chart.axis    46.0  44.0  2.0  7056.0   91.0  32.0  0.152   \n",
      "5        org.jfree.chart.block    22.0  17.0  5.0  1723.0   19.0  18.0  0.227   \n",
      "\n",
      "     Ins     ND     WMC  is_god_component  \n",
      "1  0.072  0.466   576.0                 1  \n",
      "2  0.769  0.069   457.0                 0  \n",
      "3  0.014  0.915   105.0                 0  \n",
      "4  0.260  0.588  1828.0                 1  \n",
      "5  0.486  0.287   485.0                 0  \n"
     ]
    }
   ],
   "source": [
    "def remove_labeling_columns(data):\n",
    "    data = data.drop(['QualifiedName', 'Complexity', 'Coupling', 'Size', 'Lack of Cohesion'], axis=1)\n",
    "    return data\n",
    "\n",
    "dataset = remove_labeling_columns(dataset)\n",
    "print(dataset.head())"
   ]
  },
  {
   "cell_type": "code",
   "execution_count": 4,
   "metadata": {},
   "outputs": [],
   "source": [
    "def preprocess_data(data):\n",
    "    X = data.drop(['Name', 'is_god_component'], axis=1)\n",
    "    y = data['is_god_component']\n",
    "    return X, y\n",
    "\n",
    "X, y = preprocess_data(dataset)"
   ]
  },
  {
   "cell_type": "code",
   "execution_count": 5,
   "metadata": {},
   "outputs": [],
   "source": [
    "from sklearn.tree import DecisionTreeClassifier\n",
    "from sklearn.model_selection import train_test_split\n",
    "\n",
    "def train_decision_tree(X, y):\n",
    "    X_train, X_test, y_train, y_test = train_test_split(X, y, test_size=0.2, random_state=42)\n",
    "    clf = DecisionTreeClassifier()\n",
    "    clf.fit(X_train, y_train)\n",
    "    return clf, X_test, y_test\n",
    "\n",
    "clf, X_test, y_test = train_decision_tree(X, y)\n"
   ]
  },
  {
   "cell_type": "code",
   "execution_count": 6,
   "metadata": {},
   "outputs": [],
   "source": [
    "def make_predictions(clf, X_test):\n",
    "    y_pred = clf.predict(X_test)\n",
    "    return y_pred\n",
    "\n",
    "y_pred = make_predictions(clf, X_test)"
   ]
  },
  {
   "cell_type": "code",
   "execution_count": 7,
   "metadata": {},
   "outputs": [
    {
     "name": "stdout",
     "output_type": "stream",
     "text": [
      "Confusion Matrix:\n",
      "[[7 0]\n",
      " [0 2]]\n",
      "\n",
      "Classification Report:\n",
      "              precision    recall  f1-score   support\n",
      "\n",
      "           0       1.00      1.00      1.00         7\n",
      "           1       1.00      1.00      1.00         2\n",
      "\n",
      "    accuracy                           1.00         9\n",
      "   macro avg       1.00      1.00      1.00         9\n",
      "weighted avg       1.00      1.00      1.00         9\n",
      "\n"
     ]
    }
   ],
   "source": [
    "from sklearn.metrics import classification_report, confusion_matrix\n",
    "\n",
    "def evaluate_results(y_test, y_pred):\n",
    "    print(\"Confusion Matrix:\")\n",
    "    print(confusion_matrix(y_test, y_pred))\n",
    "    print(\"\\nClassification Report:\")\n",
    "    print(classification_report(y_test, y_pred))\n",
    "\n",
    "evaluate_results(y_test, y_pred)"
   ]
  }
 ],
 "metadata": {
  "kernelspec": {
   "display_name": "Python 3",
   "language": "python",
   "name": "python3"
  },
  "language_info": {
   "codemirror_mode": {
    "name": "ipython",
    "version": 3
   },
   "file_extension": ".py",
   "mimetype": "text/x-python",
   "name": "python",
   "nbconvert_exporter": "python",
   "pygments_lexer": "ipython3",
   "version": "3.10.4"
  },
  "orig_nbformat": 4
 },
 "nbformat": 4,
 "nbformat_minor": 2
}
